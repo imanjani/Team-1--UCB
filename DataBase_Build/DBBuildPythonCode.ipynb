{
 "cells": [
  {
   "cell_type": "code",
   "execution_count": 1,
   "metadata": {
    "collapsed": true
   },
   "outputs": [],
   "source": [
    "import pandas as pd\n",
    "import os\n",
    "tripstats_csv = os.path.join('trip_stats.csv')\n",
    "tripareas_csv = os.path.join('trip_areas.csv')\n",
    "tripstats_df = pd.read_csv(tripstats_csv)\n",
    "tripareas_df = pd.read_csv(tripareas_csv)"
   ]
  },
  {
   "cell_type": "code",
   "execution_count": null,
   "metadata": {
    "collapsed": true
   },
   "outputs": [],
   "source": []
  },
  {
   "cell_type": "markdown",
   "metadata": {},
   "source": [
    "## Building sqlite DB"
   ]
  },
  {
   "cell_type": "code",
   "execution_count": 26,
   "metadata": {
    "collapsed": true
   },
   "outputs": [],
   "source": [
    "from sqlalchemy import create_engine\n",
    "from sqlalchemy.ext.declarative import declarative_base\n",
    "from sqlalchemy import Column, Integer, String, Float, Date\n",
    "from sqlalchemy.orm import Session\n",
    "from sqlalchemy.ext.automap import automap_base\n",
    "from sqlalchemy import func, or_, and_\n",
    "from sqlalchemy import desc"
   ]
  },
  {
   "cell_type": "code",
   "execution_count": 3,
   "metadata": {
    "collapsed": true
   },
   "outputs": [],
   "source": [
    "Base = declarative_base()\n",
    "engine = create_engine('sqlite:///uber_lyft_DB.sqlite')"
   ]
  },
  {
   "cell_type": "code",
   "execution_count": 4,
   "metadata": {
    "collapsed": true
   },
   "outputs": [],
   "source": [
    "class Rideshare(Base):\n",
    "    __tablename__='rideshare'\n",
    "    id = Column(Integer, primary_key=True)\n",
    "    trip_area = Column(Float)\n",
    "    latitude = Column(Float)\n",
    "    longitude = Column(Float)\n",
    "    name = Column(String(255))\n",
    "    day_of_week = Column(Float)\n",
    "    hour = Column(Float)\n",
    "    pickups = Column(Float)\n",
    "    dropoffs = Column(Float)"
   ]
  },
  {
   "cell_type": "code",
   "execution_count": 5,
   "metadata": {
    "collapsed": true
   },
   "outputs": [],
   "source": [
    "Base.metadata.create_all(engine)\n",
    "session = Session(bind=engine)"
   ]
  },
  {
   "cell_type": "code",
   "execution_count": 6,
   "metadata": {
    "collapsed": true
   },
   "outputs": [],
   "source": [
    "uber_lyft_DB_csv = os.path.join('uber_lyft_DB.csv')\n",
    "uber_lyft_DB_df = pd.read_csv(uber_lyft_DB_csv)"
   ]
  },
  {
   "cell_type": "code",
   "execution_count": 7,
   "metadata": {
    "collapsed": true
   },
   "outputs": [],
   "source": [
    "uber_lyft_DB_df=uber_lyft_DB_df[['trip_area', 'latitude', 'longitude', 'name', 'day_of_week', 'hour',\n",
    "                 'pickups', 'dropoffs']]"
   ]
  },
  {
   "cell_type": "code",
   "execution_count": 7,
   "metadata": {
    "collapsed": true
   },
   "outputs": [],
   "source": [
    "# uber_lyft_DB_df.head()"
   ]
  },
  {
   "cell_type": "code",
   "execution_count": 8,
   "metadata": {
    "collapsed": true
   },
   "outputs": [],
   "source": [
    "trip_area_list=[]\n",
    "latitude_list=[]\n",
    "longitude_list=[]\n",
    "name_list=[]\n",
    "dow_list=[]\n",
    "hour_list=[]\n",
    "pickups_list=[]\n",
    "dropoffs_list=[]\n",
    "\n"
   ]
  },
  {
   "cell_type": "code",
   "execution_count": 9,
   "metadata": {
    "collapsed": true
   },
   "outputs": [],
   "source": [
    "for each in uber_lyft_DB_df.trip_area:\n",
    "    trip_area_list.append(each)\n",
    "    \n",
    "for each in uber_lyft_DB_df.latitude:\n",
    "    latitude_list.append(each)\n",
    "    \n",
    "for each in uber_lyft_DB_df.longitude:\n",
    "    longitude_list.append(each)\n",
    "    \n",
    "for each in uber_lyft_DB_df.name:\n",
    "    name_list.append(each)\n",
    "    \n",
    "for each in uber_lyft_DB_df.day_of_week:\n",
    "    dow_list.append(each)\n",
    "    \n",
    "for each in uber_lyft_DB_df.hour:\n",
    "    hour_list.append(each)\n",
    "    \n",
    "for each in uber_lyft_DB_df.pickups:\n",
    "    pickups_list.append(each)\n",
    "    \n",
    "for each in uber_lyft_DB_df.dropoffs:\n",
    "    dropoffs_list.append(each)\n",
    "    "
   ]
  },
  {
   "cell_type": "code",
   "execution_count": 10,
   "metadata": {
    "collapsed": true
   },
   "outputs": [],
   "source": [
    "# print(trip_area_list)"
   ]
  },
  {
   "cell_type": "code",
   "execution_count": 11,
   "metadata": {
    "collapsed": true
   },
   "outputs": [],
   "source": [
    "list_for_db = []\n",
    "i = 0\n",
    "while len(list_for_db) < len(trip_area_list):\n",
    "    storing_station = Rideshare(trip_area = trip_area_list[i], latitude = latitude_list[i], longitude = longitude_list[i], \n",
    "                            name = name_list[i], day_of_week = dow_list[i], hour=hour_list[i], pickups=pickups_list[i], \n",
    "                            dropoffs=dropoffs_list[i])\n",
    "    list_for_db.append(storing_station)\n",
    "    i = i+ 1"
   ]
  },
  {
   "cell_type": "code",
   "execution_count": 12,
   "metadata": {},
   "outputs": [
    {
     "name": "stdout",
     "output_type": "stream",
     "text": [
      "1\n"
     ]
    }
   ],
   "source": [
    "for each in list_for_db:\n",
    "    print(each.trip_area) \n",
    "    break"
   ]
  },
  {
   "cell_type": "code",
   "execution_count": 13,
   "metadata": {
    "collapsed": true
   },
   "outputs": [],
   "source": [
    "session.add_all(list_for_db)\n",
    "session.commit()\n",
    "session.close()"
   ]
  },
  {
   "cell_type": "code",
   "execution_count": 14,
   "metadata": {
    "collapsed": true
   },
   "outputs": [],
   "source": [
    "everything = session.query(Rideshare)"
   ]
  },
  {
   "cell_type": "code",
   "execution_count": 15,
   "metadata": {},
   "outputs": [
    {
     "name": "stdout",
     "output_type": "stream",
     "text": [
      "1.0\n"
     ]
    }
   ],
   "source": [
    "for each in everything:\n",
    "    print (each.trip_area)\n",
    "    \n",
    "    break"
   ]
  },
  {
   "cell_type": "code",
   "execution_count": null,
   "metadata": {},
   "outputs": [],
   "source": []
  },
  {
   "cell_type": "code",
   "execution_count": 8,
   "metadata": {},
   "outputs": [],
   "source": [
    "if not os.path.exists('uber_lyft_DB.sqlite'):\n",
    "    raise FileNotFoundError(\"The UL-sqlite-file does not exist\")\n",
    "engine = create_engine(\"sqlite:///uber_lyft_DB.sqlite\")\n",
    "\n",
    "Base = automap_base()\n",
    "Base.prepare(engine, reflect=True)\n",
    "\n",
    "ridesharedata = Base.classes.rideshare\n",
    "\n",
    "session = Session(engine)\n",
    "day = 0"
   ]
  },
  {
   "cell_type": "code",
   "execution_count": 23,
   "metadata": {},
   "outputs": [
    {
     "data": {
      "text/plain": [
       "<sqlalchemy.orm.query.Query at 0x266242dcac8>"
      ]
     },
     "execution_count": 23,
     "metadata": {},
     "output_type": "execute_result"
    }
   ],
   "source": [
    "dow_query = (session.query(ridesharedata.trip_area, ridesharedata.latitude, ridesharedata.longitude, ridesharedata.name, \n",
    "                    ridesharedata.day_of_week, ridesharedata.hour, ridesharedata.pickups, ridesharedata.dropoffs).filter(\n",
    "                            ridesharedata.day_of_week == day))\n",
    "dow_query"
   ]
  },
  {
   "cell_type": "code",
   "execution_count": 24,
   "metadata": {},
   "outputs": [
    {
     "data": {
      "text/plain": [
       "[(958.0,\n",
       "  37.79687543,\n",
       "  -122.39451809999998,\n",
       "  'TAZ981999 981',\n",
       "  0.0,\n",
       "  3.0,\n",
       "  0.2,\n",
       "  0.2),\n",
       " (958.0,\n",
       "  37.79687543,\n",
       "  -122.39451809999998,\n",
       "  'TAZ981999 981',\n",
       "  0.0,\n",
       "  4.0,\n",
       "  0.6,\n",
       "  0.2),\n",
       " (958.0,\n",
       "  37.79687543,\n",
       "  -122.39451809999998,\n",
       "  'TAZ981999 981',\n",
       "  0.0,\n",
       "  5.0,\n",
       "  2.2,\n",
       "  1.2),\n",
       " (958.0,\n",
       "  37.79687543,\n",
       "  -122.39451809999998,\n",
       "  'TAZ981999 981',\n",
       "  0.0,\n",
       "  6.0,\n",
       "  11.0,\n",
       "  10.2),\n",
       " (958.0,\n",
       "  37.79687543,\n",
       "  -122.39451809999998,\n",
       "  'TAZ981999 981',\n",
       "  0.0,\n",
       "  7.0,\n",
       "  11.8,\n",
       "  12.6),\n",
       " (958.0,\n",
       "  37.79687543,\n",
       "  -122.39451809999998,\n",
       "  'TAZ981999 981',\n",
       "  0.0,\n",
       "  8.0,\n",
       "  13.4,\n",
       "  11.6),\n",
       " (958.0,\n",
       "  37.79687543,\n",
       "  -122.39451809999998,\n",
       "  'TAZ981999 981',\n",
       "  0.0,\n",
       "  9.0,\n",
       "  4.6,\n",
       "  9.0),\n",
       " (958.0,\n",
       "  37.79687543,\n",
       "  -122.39451809999998,\n",
       "  'TAZ981999 981',\n",
       "  0.0,\n",
       "  10.0,\n",
       "  5.6,\n",
       "  5.6),\n",
       " (958.0,\n",
       "  37.79687543,\n",
       "  -122.39451809999998,\n",
       "  'TAZ981999 981',\n",
       "  0.0,\n",
       "  11.0,\n",
       "  6.6,\n",
       "  8.8),\n",
       " (958.0,\n",
       "  37.79687543,\n",
       "  -122.39451809999998,\n",
       "  'TAZ981999 981',\n",
       "  0.0,\n",
       "  12.0,\n",
       "  6.4,\n",
       "  7.4),\n",
       " (958.0,\n",
       "  37.79687543,\n",
       "  -122.39451809999998,\n",
       "  'TAZ981999 981',\n",
       "  0.0,\n",
       "  13.0,\n",
       "  4.8,\n",
       "  5.4),\n",
       " (958.0,\n",
       "  37.79687543,\n",
       "  -122.39451809999998,\n",
       "  'TAZ981999 981',\n",
       "  0.0,\n",
       "  14.0,\n",
       "  4.4,\n",
       "  5.6),\n",
       " (958.0,\n",
       "  37.79687543,\n",
       "  -122.39451809999998,\n",
       "  'TAZ981999 981',\n",
       "  0.0,\n",
       "  15.0,\n",
       "  3.6,\n",
       "  5.0),\n",
       " (958.0,\n",
       "  37.79687543,\n",
       "  -122.39451809999998,\n",
       "  'TAZ981999 981',\n",
       "  0.0,\n",
       "  16.0,\n",
       "  5.2,\n",
       "  5.6),\n",
       " (958.0,\n",
       "  37.79687543,\n",
       "  -122.39451809999998,\n",
       "  'TAZ981999 981',\n",
       "  0.0,\n",
       "  17.0,\n",
       "  16.0,\n",
       "  17.0),\n",
       " (958.0,\n",
       "  37.79687543,\n",
       "  -122.39451809999998,\n",
       "  'TAZ981999 981',\n",
       "  0.0,\n",
       "  18.0,\n",
       "  13.8,\n",
       "  16.6),\n",
       " (958.0,\n",
       "  37.79687543,\n",
       "  -122.39451809999998,\n",
       "  'TAZ981999 981',\n",
       "  0.0,\n",
       "  19.0,\n",
       "  10.8,\n",
       "  13.2),\n",
       " (958.0,\n",
       "  37.79687543,\n",
       "  -122.39451809999998,\n",
       "  'TAZ981999 981',\n",
       "  0.0,\n",
       "  20.0,\n",
       "  6.0,\n",
       "  4.6),\n",
       " (958.0,\n",
       "  37.79687543,\n",
       "  -122.39451809999998,\n",
       "  'TAZ981999 981',\n",
       "  0.0,\n",
       "  21.0,\n",
       "  4.8,\n",
       "  3.4),\n",
       " (958.0,\n",
       "  37.79687543,\n",
       "  -122.39451809999998,\n",
       "  'TAZ981999 981',\n",
       "  0.0,\n",
       "  22.0,\n",
       "  3.0,\n",
       "  3.0),\n",
       " (958.0,\n",
       "  37.79687543,\n",
       "  -122.39451809999998,\n",
       "  'TAZ981999 981',\n",
       "  0.0,\n",
       "  23.0,\n",
       "  1.0,\n",
       "  1.2),\n",
       " (958.0,\n",
       "  37.79687543,\n",
       "  -122.39451809999998,\n",
       "  'TAZ981999 981',\n",
       "  0.0,\n",
       "  24.0,\n",
       "  0.4,\n",
       "  1.0),\n",
       " (958.0,\n",
       "  37.79687543,\n",
       "  -122.39451809999998,\n",
       "  'TAZ981999 981',\n",
       "  0.0,\n",
       "  25.0,\n",
       "  0.0,\n",
       "  0.0),\n",
       " (958.0,\n",
       "  37.79687543,\n",
       "  -122.39451809999998,\n",
       "  'TAZ981999 981',\n",
       "  0.0,\n",
       "  26.0,\n",
       "  0.2,\n",
       "  0.0)]"
      ]
     },
     "execution_count": 24,
     "metadata": {},
     "output_type": "execute_result"
    }
   ],
   "source": [
    "dow_query.group_by(ridesharedata.hour).all()"
   ]
  },
  {
   "cell_type": "code",
   "execution_count": 39,
   "metadata": {},
   "outputs": [],
   "source": [
    "sum_query = (session.query(ridesharedata.hour, func.sum(ridesharedata.pickups)).group_by(ridesharedata.hour).filter(ridesharedata.day_of_week == day).all())"
   ]
  },
  {
   "cell_type": "code",
   "execution_count": 40,
   "metadata": {},
   "outputs": [
    {
     "data": {
      "text/plain": [
       "[(3.0, 559.5999999999983),\n",
       " (4.0, 879.4000000000004),\n",
       " (5.0, 1861.6000000000004),\n",
       " (6.0, 3291.9999999999955),\n",
       " (7.0, 6165.39999999999),\n",
       " (8.0, 8114.399999999996),\n",
       " (9.0, 7925.199999999996),\n",
       " (10.0, 5926.200000000001),\n",
       " (11.0, 5474.999999999995),\n",
       " (12.0, 5383.200000000002),\n",
       " (13.0, 5300.600000000004),\n",
       " (14.0, 5507.000000000007),\n",
       " (15.0, 6384.200000000006),\n",
       " (16.0, 7251.0),\n",
       " (17.0, 9463.799999999996),\n",
       " (18.0, 10793.799999999987),\n",
       " (19.0, 10175.400000000009),\n",
       " (20.0, 8461.799999999992),\n",
       " (21.0, 7425.400000000002),\n",
       " (22.0, 5820.399999999996),\n",
       " (23.0, 3710.2000000000035),\n",
       " (24.0, 2111.400000000003),\n",
       " (25.0, 1359.2000000000048),\n",
       " (26.0, 849.0000000000025)]"
      ]
     },
     "execution_count": 40,
     "metadata": {},
     "output_type": "execute_result"
    }
   ],
   "source": [
    "sum_query"
   ]
  },
  {
   "cell_type": "code",
   "execution_count": 42,
   "metadata": {},
   "outputs": [
    {
     "name": "stdout",
     "output_type": "stream",
     "text": [
      "3.0 559.5999999999983\n",
      "4.0 879.4000000000004\n",
      "5.0 1861.6000000000004\n",
      "6.0 3291.9999999999955\n",
      "7.0 6165.39999999999\n",
      "8.0 8114.399999999996\n",
      "9.0 7925.199999999996\n",
      "10.0 5926.200000000001\n",
      "11.0 5474.999999999995\n",
      "12.0 5383.200000000002\n",
      "13.0 5300.600000000004\n",
      "14.0 5507.000000000007\n",
      "15.0 6384.200000000006\n",
      "16.0 7251.0\n",
      "17.0 9463.799999999996\n",
      "18.0 10793.799999999987\n",
      "19.0 10175.400000000009\n",
      "20.0 8461.799999999992\n",
      "21.0 7425.400000000002\n",
      "22.0 5820.399999999996\n",
      "23.0 3710.2000000000035\n",
      "24.0 2111.400000000003\n",
      "25.0 1359.2000000000048\n",
      "26.0 849.0000000000025\n"
     ]
    }
   ],
   "source": [
    "for each in sum_query:\n",
    "    print(each[0], each[1])"
   ]
  },
  {
   "cell_type": "code",
   "execution_count": null,
   "metadata": {
    "collapsed": true
   },
   "outputs": [],
   "source": []
  }
 ],
 "metadata": {
  "kernelspec": {
   "display_name": "Python [conda env:PythonData]",
   "language": "python",
   "name": "conda-env-PythonData-py"
  },
  "language_info": {
   "codemirror_mode": {
    "name": "ipython",
    "version": 3
   },
   "file_extension": ".py",
   "mimetype": "text/x-python",
   "name": "python",
   "nbconvert_exporter": "python",
   "pygments_lexer": "ipython3",
   "version": "3.6.1"
  }
 },
 "nbformat": 4,
 "nbformat_minor": 2
}
